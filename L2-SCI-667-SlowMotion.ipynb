{
 "cells": [
  {
   "cell_type": "markdown",
   "id": "1e1ea274-fe2b-429d-995f-3f09ae062079",
   "metadata": {},
   "source": [
    "# Validation of NISAR Requirement L2-SCI-667:  </br>Ice sheet and glacier velocity measurement - slow deformation\n",
    "---"
   ]
  },
  {
   "cell_type": "markdown",
   "id": "c4c62979-3d41-4555-83d6-9522481d1f3f",
   "metadata": {},
   "source": [
    "This notebook documents and executes the steps need to validate the NISAR slow ice deformation requirement (L2-SCI-667), which is specified as:\n",
    "\n",
    "**The NISAR Project shall measure ice sheet (> 90% coverage, including both poles) and glaciers and ice-caps (> 80% coverage) horizontal velocity each cold season to an accuracy\n",
    " better than the sum of 3% of the horizontal velocity magnitude and 1 m/yr (1-sigma), at 100-m resolution in areas of slow deformation (< 50 m/yr).**\n",
    " \n",
    "As described below this process amounts to comparing L3 velocity products generated as described in the NISAR ATBD with points of known velocity and elevations. Specifically, the Cal/Val points will consist of:\n",
    "* Zero velocity points on exposed bedrock; and\n",
    "* On-ice GPS measurements of ice flow speed ($v_x$,$v_y$) and elevation ($z$).\n",
    "\n",
    "This notebook evaluates the differences between the GPS cal/val points and velocity maps produced by the Greenland Mapping Project sponsored by the NASA MEaSUREs program. The rms values of these differences are used to determine whether the above requirement is met. The S1 data used to derive this projection have a lower resolution than NISAR, hence the products are gridded at 200 rather than 100 m."
   ]
  },
  {
   "cell_type": "markdown",
   "id": "029a064e-61f1-4632-b292-03f0c3972bba",
   "metadata": {},
   "source": [
    "Errors are evaluated as the means ($\\mu_x,\\mu_y$), standard deviations ($\\sigma_x,\\sigma_y$), and root-mean-squares (rms) of the diferences between the SAR-measured velocity ($v_x,v_y$) and the nominally GPS-measured cal/val points ($u_x,u_y$). Explicitly, these calculations are:\n",
    "\n",
    "$\\bar{\\mu}_x = \\frac{1}{N_{pts}}\\sum \\limits_{i=1}^{N_{pts}} (v_x-u_x)$, &nbsp;&nbsp;&nbsp;       $\\bar{\\mu}_y = \\frac{1}{N_{pts}}\\sum \\limits_{i=1}^{N_{pts}} (v_x-u_x)$ </br>\n",
    "$\\hat{\\sigma}_x^2 = \\frac{1}{N_{pts}-1}\\sum \\limits_{i=1}^{N_{pts}} ((v_x-u_x)-\\bar{\\mu_x})^2$, &nbsp;&nbsp;&nbsp;    $\\hat{\\sigma}_y^2 = \\frac{1}{N_{pts}-1}\\sum \\limits_{i=1}^{N_{pts}} ((v_y-u_y)-\\bar{\\mu_y})^2$ </br>\n",
    "$rms_x = \\sqrt{\\frac{1}{N_{pts}-1}\\sum \\limits_{i=1}^{N_{pts}} ((v_x-u_x))^2}$, &nbsp;&nbsp;&nbsp; \n",
    "$rms_y = \\sqrt{\\frac{1}{N_{pts}-1}\\sum \\limits_{i=1}^{N_{pts}} ((v_y-u_y))^2}$"
   ]
  },
  {
   "cell_type": "markdown",
   "id": "0a479275-6c7e-46e2-980f-7eafc60ab2a0",
   "metadata": {},
   "source": [
    "The rest of this notebook is designed to access remotely stored L3 velocity maps and evaluate them using a set of GPS cal/val points.\n",
    "\n",
    "**A present this notebook is only a prototype and works using prodcuts created using data products derived using SAR data from sensors other than NISAR, albeit with the same algorithms and workflow. To emulate the points that will be collected by the project, this notebook uses a recently collected set of GPS points ([Hvidberg et al., 2020](https://tc.copernicus.org/articles/14/3487/2020/)). For purposes of demonstration, it is assumed that any changes in velocity with time are less than the uncertainty in the individual measurements.**"
   ]
  },
  {
   "cell_type": "markdown",
   "id": "82ca66ce-e345-4ec2-a866-3c954478cd9d",
   "metadata": {},
   "source": [
    "## Python Setup"
   ]
  },
  {
   "cell_type": "code",
   "execution_count": null,
   "id": "cd8ac1a9-4088-45e6-91f5-96f0449f3939",
   "metadata": {},
   "outputs": [],
   "source": [
    "%load_ext autoreload\n",
    "%autoreload 2\n",
    "import nisardev as nisar\n",
    "import os\n",
    "from urllib import request\n",
    "import gimpfunc as gimp\n",
    "import matplotlib.pyplot as plt\n",
    "import panel\n",
    "import numpy as np\n",
    "from datetime import datetime\n",
    "import pandas as pd\n",
    "panel.extension()"
   ]
  },
  {
   "cell_type": "markdown",
   "id": "a1e122df-4a46-4e3e-810c-33e483910a95",
   "metadata": {
    "tags": []
   },
   "source": [
    "## Login for Remote Access"
   ]
  },
  {
   "cell_type": "markdown",
   "id": "e3971bdb-e4eb-48e5-83fa-f5e455839eed",
   "metadata": {},
   "source": [
    "For remote access to data at NSIDC, run these cells to login with a valid NASA EarthData Login (see  [NSIDCLoginNotebook](https://github.com/fastice/GIMPNotebooks/blob/master/NSIDCLoginNotebook.ipynb) for further details and security concerns). Descriptions of these data products are avaiable at [NSIDC](https://nsidc.org/data/measures/gimp). The algorithms used to produce these products are described in the written ATBD and the [NISAR Users handbook](https://nisar.jpl.nasa.gov/rails/active_storage/disk/eyJfcmFpbHMiOnsibWVzc2FnZSI6IkJBaDdDRG9JYTJWNVNTSXBZV0V4T1RRNE5HVXRaV1V6WVMwMFltTXpMV0ppWkdRdE16VXpNekZoWldNeFkyWTFCam9HUlZRNkVHUnBjM0J2YzJsMGFXOXVTU0pYYVc1c2FXNWxPeUJtYVd4bGJtRnRaVDBpVGtsVFFWSmZSa2xPUVV4Zk9TMDJMVEU1TG5Ca1ppSTdJR1pwYkdWdVlXMWxLajFWVkVZdE9DY25Ua2xUUVZKZlJrbE9RVXhmT1MwMkxURTVMbkJrWmdZN0JsUTZFV052Ym5SbGJuUmZkSGx3WlVraUZHRndjR3hwWTJGMGFXOXVMM0JrWmdZN0JsUT0iLCJleHAiOiIyMDIyLTAxLTI3VDIxOjA2OjEzLjk0OFoiLCJwdXIiOiJibG9iX2tleSJ9fQ==--46c90ad132272eb5855fecb3070780e162777a62/NISAR_FINAL_9-6-19.pdf?content_type=application%2Fpdf&disposition=inline%3B+filename%3D%22NISAR_FINAL_9-6-19.pdf%22%3B+filename%2A%3DUTF-8%27%27NISAR_FINAL_9-6-19.pdf)."
   ]
  },
  {
   "cell_type": "code",
   "execution_count": null,
   "id": "46ffb2cf-ce39-4001-9e26-6e8dfd9cbb90",
   "metadata": {},
   "outputs": [],
   "source": [
    "env = dict(GDAL_HTTP_COOKIEFILE=os.path.expanduser('~/.gimp_download_cookiejar.txt'),\n",
    "            GDAL_HTTP_COOKIEJAR=os.path.expanduser('~/.gimp_download_cookiejar.txt'))\n",
    "os.environ.update(env)"
   ]
  },
  {
   "cell_type": "code",
   "execution_count": null,
   "id": "753d53f3-96d6-4136-b6e1-e136a889c02a",
   "metadata": {},
   "outputs": [],
   "source": [
    "myLogin = gimp.NASALogin()  # If login appears not to work, try rerunning this cell\n",
    "myLogin.view()"
   ]
  },
  {
   "cell_type": "markdown",
   "id": "49f41d02-8169-49f3-aa1c-b6404155913f",
   "metadata": {},
   "source": [
    "# Cal/Val Points (cvPoints)"
   ]
  },
  {
   "cell_type": "markdown",
   "id": "1cfcc8bc-380b-4fa1-af6b-40a96ffc60ca",
   "metadata": {},
   "source": [
    "The **cvPoints** class is used to read in, filter (by speed), and interpolate cal/val points. \n",
    "\n",
    "At present, cal/val points are stored in a flat ascii file with rows given by:\n",
    "\n",
    "*lat lon elevation vx vy vz \n",
    "...*\n",
    "The following examples demontrate selection of point locations by speed."
   ]
  },
  {
   "cell_type": "code",
   "execution_count": null,
   "id": "c149803c-2350-4963-8f83-59521d9f8fa7",
   "metadata": {},
   "outputs": [],
   "source": [
    "myCVPts = nisar.cvPoints(cvFile='GPSpoints/NEGIS-GPS.txt') # Read points for the Northeast Greenland Ice Stream\n",
    "x, y = myCVPts.xyAllm() # Returns all cal/val points\n",
    "x0, y0 = myCVPts.xyZerom() # Returns stationary (v=0) points\n",
    "x50, y50 = myCVPts.xyVRangem(0, 30) # Returns all cal/val points with speeds between 0 and 30 m/yr"
   ]
  },
  {
   "cell_type": "markdown",
   "id": "9f32906b-926c-461c-bb48-778c66bfdc6c",
   "metadata": {},
   "source": [
    "The bounding box of the cal/val points with a 20-km pad can be found as:"
   ]
  },
  {
   "cell_type": "code",
   "execution_count": null,
   "id": "e45675f7-22da-456f-9fa7-f1e291bf837d",
   "metadata": {},
   "outputs": [],
   "source": [
    "cvBounds = myCVPts.boundingBox(pad=20e3) # Get the bounding box for the cal/val points with a 10km pad.\n",
    "print(cvBounds)"
   ]
  },
  {
   "cell_type": "markdown",
   "id": "cd8ee8af-2d0f-4cde-9a95-4424a2fbb782",
   "metadata": {},
   "source": [
    "This box is used below to limit the extent of the remote velocity maps for faster remote access and display."
   ]
  },
  {
   "cell_type": "markdown",
   "id": "ef9733db-5f3a-4802-960d-28bacbc78214",
   "metadata": {},
   "source": [
    "## Select Data"
   ]
  },
  {
   "cell_type": "markdown",
   "id": "bb1314a0-65d7-45a7-ab42-3b205a3cd69d",
   "metadata": {},
   "source": [
    "By default, running this cell will select the 6 annual velocity maps archived at NSIDC, which are representative of the products for the slow-deformation ice sheet requirement. The controls in this cell can use used to a select a varient of other velocity maps, at 6-to-12 day, monthly, quarterly, and annual resolution."
   ]
  },
  {
   "cell_type": "code",
   "execution_count": null,
   "id": "8d35cb4e-a6f0-432f-b443-fe018b978c39",
   "metadata": {},
   "outputs": [],
   "source": [
    "myUrls = gimp.cmrUrls(mode='nisar')  # Subsetter mode is required for subsetting.\n",
    "myUrls.initialSearch()"
   ]
  },
  {
   "cell_type": "markdown",
   "id": "a6c0e1ec-bef6-4631-948d-c6feb0b06dfc",
   "metadata": {},
   "source": [
    "## Initialize Data and Subset Data"
   ]
  },
  {
   "cell_type": "markdown",
   "id": "735d7183-2739-4bbd-9b55-97a7bfcf4c38",
   "metadata": {},
   "source": [
    "Each component in the velocity maps is ~240MB, so downloading 6 maps with 2 components each (~3GB) can take a few minutes. To avoid this wait, the urls returned from the search and crop them to match the  bounding box for the cal/val points as follows:"
   ]
  },
  {
   "cell_type": "code",
   "execution_count": null,
   "id": "ea8328b0-375c-459c-8193-b2b7bb58a20c",
   "metadata": {},
   "outputs": [],
   "source": [
    "myVelSeries = []\n",
    "nMaps = len(myUrls.urls)\n",
    "for myUrl, i in zip(myUrls.urls, range(1, nMaps+1)):\n",
    "    myUrl = myUrl.replace('vv', '*').replace('.tif','')\n",
    "    print(f'Initializing {i} of {nMaps}: {myUrl}\\r', end='')\n",
    "    myVelRemote = nisar.nisarVel()\n",
    "    myVelRemote.readDataFromTiff(myUrl, url=True, readSpeed=False)\n",
    "    myVelRemote.subSetVel(cvBounds)  # Clip the extent of the map to the cal/val points\n",
    "    myVelSeries.append(myVelRemote)  # Save the maps in list"
   ]
  },
  {
   "cell_type": "markdown",
   "id": "b685cca6-10e6-4475-9545-583bf71e3a29",
   "metadata": {},
   "source": [
    "### Velocity and Point Locations"
   ]
  },
  {
   "cell_type": "markdown",
   "id": "3e1364ba-edc6-4f7e-add0-895a39640809",
   "metadata": {},
   "source": [
    "The locations of the cal/val points, including those with speeds < 50 m/yr, are plotted over the velocity maps for each year as:"
   ]
  },
  {
   "cell_type": "code",
   "execution_count": null,
   "id": "208aaa2a-b95e-4602-8ca1-51df76d41e9f",
   "metadata": {},
   "outputs": [],
   "source": [
    "fig, axes = plt.subplots(2, np.ceil(nMaps/2).astype(int), figsize=(18, 9))\n",
    "for ax, myVelRemote in zip(axes.flatten(), myVelSeries):\n",
    "    myVelRemote.displayVel(ax=ax, fig=fig)\n",
    "    ax.set_title(f'{myVelRemote.date1.strftime(\"%Y-%m-%d\")} to {myVelRemote.date2.strftime(\"%Y-%m-%d\")}')\n",
    "    ax.axis('off')\n",
    "    myCVPts.plotAllCVLocs(ax=ax, color='red', marker='o', label='all')  # Show all points\n",
    "    myCVPts.plotVRangeCVLocs(0, 50, ax=ax, color='yellow', label='<50 m/yr') # Over plot slow points\n",
    "axes[0][0].legend();"
   ]
  },
  {
   "cell_type": "markdown",
   "id": "9611123b-b73a-4593-98d0-4b89ed47d0b4",
   "metadata": {},
   "source": [
    "### Cal/Val and Estimated Velocity Differences"
   ]
  },
  {
   "cell_type": "markdown",
   "id": "1fbd58ac-54db-46d8-a4e9-a25a7b94c5a1",
   "metadata": {},
   "source": [
    "The differences between the estimated velocity ($v_x$ and $v_y$) and the cal/val measurements ($u_x$ and $u_y$) for each year are displayed as:"
   ]
  },
  {
   "cell_type": "code",
   "execution_count": null,
   "id": "930b5f46-ee5d-4b89-9401-83a893cd0bc8",
   "metadata": {},
   "outputs": [],
   "source": [
    "fig, axes = plt.subplots(2,3, figsize=(18,12))\n",
    "for ax, myVelRemote in zip(axes.flatten(), myVelSeries):\n",
    "    # Plot the differences for GPS points with v < 50\n",
    "    myCVPts.plotVRangeCVDiffs(myVelRemote, 0, 50, ax=ax, xColor='orange', marker='o', \n",
    "                              legendKwargs={'loc': 'upper right', 'fontsize': 14})\n",
    "    ax.set_title(f'{myVelRemote.date1.strftime(\"%Y-%m-%d\")} to {myVelRemote.date2.strftime(\"%Y-%m-%d\")}', fontsize=14)"
   ]
  },
  {
   "cell_type": "markdown",
   "id": "d9d2eee1-b71d-4ec4-9004-7a02b63b382e",
   "metadata": {},
   "source": [
    "## Summary"
   ]
  },
  {
   "cell_type": "markdown",
   "id": "b8671a51-6ef6-4963-acf5-678a8473d1f2",
   "metadata": {},
   "source": [
    "The table below summarizes the statistics for the differences between the observed (SAR) and measured (GPS) velocities. Cases where the requiresments are not met are flagged with red text."
   ]
  },
  {
   "cell_type": "code",
   "execution_count": null,
   "id": "3a748cb4-be7f-4b51-a0e3-20dd50a9df23",
   "metadata": {},
   "outputs": [],
   "source": [
    "tables = []\n",
    "# return result for each product as one-row pandas data frame\n",
    "for myVelRemote in myVelSeries:\n",
    "    result = myCVPts.vRangeStats(myVelRemote, 0, 50, table=True)\n",
    "    tables.append(result[-1])\n",
    "df = pd.concat(tables, axis=0) # Concatenate individual results to single dataframe\n",
    "caption = f'Of {len(df[\"RMS\"]) * 2} components derived from {len(df[\"RMS\"])} estimates, {np.sum(df[\"RMS\"][df[\"RMS\"] > 1].count())} do not meet requirements.'\n",
    "df.style.pipe(myCVPts.statsStyle, **{'thresh':1, 'caption': caption})"
   ]
  }
 ],
 "metadata": {
  "kernelspec": {
   "display_name": "python-nisar",
   "language": "python",
   "name": "nisar"
  },
  "language_info": {
   "codemirror_mode": {
    "name": "ipython",
    "version": 3
   },
   "file_extension": ".py",
   "mimetype": "text/x-python",
   "name": "python",
   "nbconvert_exporter": "python",
   "pygments_lexer": "ipython3",
   "version": "3.8.12"
  }
 },
 "nbformat": 4,
 "nbformat_minor": 5
}
